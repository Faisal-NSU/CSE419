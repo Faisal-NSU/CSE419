{
 "cells": [
  {
   "cell_type": "code",
   "execution_count": 1,
   "id": "1399936d",
   "metadata": {},
   "outputs": [],
   "source": [
    "import numpy as np\n",
    "import matplotlib.pyplot as plt"
   ]
  },
  {
   "cell_type": "code",
   "execution_count": null,
   "id": "c5b736fd",
   "metadata": {},
   "outputs": [],
   "source": [
    "Models = ['MultinomialNB', 'LinearSVM', 'Random Forrest', 'RNN']\n",
    "\n",
    "NBacc = [0.8571,0.8571,0.8393]\n",
    "LSVM_2_acc = [0.8393,0.9107,0.9286]\n",
    "RF_2_acc = [0.9643,0.9464,0.9286]\n",
    "RNN_2_acc = [0.8036,0.8036,0.8036]\n",
    "\n",
    "print(\"Average NB: \",avg(NB_2_acc))\n",
    "print(\"Average LSVM: \",avg(LSVM_2_acc))\n",
    "print(\"Average RF: \",avg(RF_2_acc))\n",
    "print(\"Average RNN: \",avg(RNN_2_acc))"
   ]
  }
 ],
 "metadata": {
  "kernelspec": {
   "display_name": "Python 3",
   "language": "python",
   "name": "python3"
  },
  "language_info": {
   "codemirror_mode": {
    "name": "ipython",
    "version": 3
   },
   "file_extension": ".py",
   "mimetype": "text/x-python",
   "name": "python",
   "nbconvert_exporter": "python",
   "pygments_lexer": "ipython3",
   "version": "3.8.8"
  }
 },
 "nbformat": 4,
 "nbformat_minor": 5
}
