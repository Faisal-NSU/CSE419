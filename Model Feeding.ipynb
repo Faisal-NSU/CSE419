{
 "cells": [
  {
   "cell_type": "code",
   "execution_count": 59,
   "id": "3a6fd39b",
   "metadata": {},
   "outputs": [],
   "source": [
    "import string \n",
    "import seaborn as sns\n",
    "from plotly.offline import download_plotlyjs,init_notebook_mode,plot,iplot\n",
    "%matplotlib inline\n",
    "import numpy as np\n",
    "import pandas as pd\n",
    "import matplotlib.pyplot as plt\n",
    "%matplotlib inline\n",
    "import re\n",
    "import nltk\n",
    "from nltk.stem import PorterStemmer\n",
    "from nltk.sentiment.vader import SentimentIntensityAnalyzer\n",
    "from sklearn.metrics import accuracy_score,classification_report,confusion_matrix\n",
    "from sklearn.feature_extraction.text import CountVectorizer\n",
    "from sklearn.feature_extraction.text import TfidfTransformer\n",
    "from sklearn.pipeline import Pipeline\n",
    "from sklearn.model_selection import train_test_split\n",
    "from sklearn.feature_extraction.text import TfidfVectorizer\n",
    "from sklearn.svm import LinearSVC\n",
    "from sklearn import metrics\n",
    "from sklearn.ensemble import RandomForestClassifier\n",
    "from sklearn.naive_bayes import MultinomialNB\n",
    "from sklearn.linear_model import LogisticRegression\n",
    "from sklearn.svm import SVC\n",
    "from sklearn import tree\n",
    "import warnings\n",
    "warnings.filterwarnings(\"ignore\")\n",
    "from os import path\n",
    "from PIL import Image\n",
    "from wordcloud import WordCloud, STOPWORDS, ImageColorGenerator\n",
    "import pandas as pd\n",
    "import io\n",
    "from bnlp import BasicTokenizer\n",
    "from bnlp.corpus import stopwords, punctuations, letters, digits\n",
    "from bnlp.corpus.util import remove_stopwords\n"
   ]
  },
  {
   "cell_type": "code",
   "execution_count": 60,
   "id": "ad29897b",
   "metadata": {},
   "outputs": [],
   "source": [
    "rstate = 30"
   ]
  },
  {
   "cell_type": "code",
   "execution_count": 2,
   "id": "ea92d055",
   "metadata": {},
   "outputs": [
    {
     "data": {
      "text/html": [
       "<div>\n",
       "<style scoped>\n",
       "    .dataframe tbody tr th:only-of-type {\n",
       "        vertical-align: middle;\n",
       "    }\n",
       "\n",
       "    .dataframe tbody tr th {\n",
       "        vertical-align: top;\n",
       "    }\n",
       "\n",
       "    .dataframe thead th {\n",
       "        text-align: right;\n",
       "    }\n",
       "</style>\n",
       "<table border=\"1\" class=\"dataframe\">\n",
       "  <thead>\n",
       "    <tr style=\"text-align: right;\">\n",
       "      <th></th>\n",
       "      <th>Serial</th>\n",
       "      <th>Youtube_ID</th>\n",
       "      <th>Speech</th>\n",
       "      <th>Label</th>\n",
       "    </tr>\n",
       "  </thead>\n",
       "  <tbody>\n",
       "    <tr>\n",
       "      <th>72</th>\n",
       "      <td>73</td>\n",
       "      <td>https://www.youtube.com/watch?v=-HTlu0QcmRY</td>\n",
       "      <td>রোগীবাহী ট্রলি থেকে হাসপাতালের sit দালাল ছাড়া...</td>\n",
       "      <td>0</td>\n",
       "    </tr>\n",
       "    <tr>\n",
       "      <th>201</th>\n",
       "      <td>202</td>\n",
       "      <td>https://www.youtube.com/watch?v=fox1i7UxpKI</td>\n",
       "      <td>তোর সঙ্গে আমার একটা কথা ছিল বল তুই কি আমার দুধ...</td>\n",
       "      <td>1</td>\n",
       "    </tr>\n",
       "    <tr>\n",
       "      <th>124</th>\n",
       "      <td>125</td>\n",
       "      <td>https://www.youtube.com/watch?v=2OC35RMm5sA</td>\n",
       "      <td>শাড়ি তুলে দেখো না কালো ভূত দেখা গিয়েছে কালো ...</td>\n",
       "      <td>1</td>\n",
       "    </tr>\n",
       "    <tr>\n",
       "      <th>151</th>\n",
       "      <td>152</td>\n",
       "      <td>https://www.youtube.com/watch?v=GW1qzfAoh-s</td>\n",
       "      <td>বৃহস্পতিবার সকালে সারা শরীরে পেঁচানো অবস্থায় ...</td>\n",
       "      <td>0</td>\n",
       "    </tr>\n",
       "    <tr>\n",
       "      <th>112</th>\n",
       "      <td>113</td>\n",
       "      <td>https://www.youtube.com/watch?v=GwXjuiZhmgQ</td>\n",
       "      <td>আমি চারবার কইরা দিমু আমার কুত্তা দিয়া দিমু ওই ...</td>\n",
       "      <td>1</td>\n",
       "    </tr>\n",
       "    <tr>\n",
       "      <th>...</th>\n",
       "      <td>...</td>\n",
       "      <td>...</td>\n",
       "      <td>...</td>\n",
       "      <td>...</td>\n",
       "    </tr>\n",
       "    <tr>\n",
       "      <th>222</th>\n",
       "      <td>223</td>\n",
       "      <td>https://www.youtube.com/watch?v=8AzzwHSep0c</td>\n",
       "      <td>একেই গ্রীষ্মকাল তার ওপরে আবার টিনের চাল তার নি...</td>\n",
       "      <td>1</td>\n",
       "    </tr>\n",
       "    <tr>\n",
       "      <th>27</th>\n",
       "      <td>28</td>\n",
       "      <td>https://www.youtube.com/watch?v=fALKprMyy3M&amp;ab...</td>\n",
       "      <td>বিশেষ হেলিকপ্টারটি তখন বাংলাদেশ মায়ানমার সীমা...</td>\n",
       "      <td>0</td>\n",
       "    </tr>\n",
       "    <tr>\n",
       "      <th>226</th>\n",
       "      <td>227</td>\n",
       "      <td>https://www.youtube.com/watch?v=lIvoXaaspHA</td>\n",
       "      <td>একটি বিশেষ সতর্কি করুন. ভিডিওটি দেখার আগে নিজে...</td>\n",
       "      <td>1</td>\n",
       "    </tr>\n",
       "    <tr>\n",
       "      <th>155</th>\n",
       "      <td>156</td>\n",
       "      <td>https://www.youtube.com/watch?v=Ysl43Pd__uo</td>\n",
       "      <td>নতুন বাড়ি করতে চাঁদা না দেওয়ায় রাজধানীর দক্...</td>\n",
       "      <td>0</td>\n",
       "    </tr>\n",
       "    <tr>\n",
       "      <th>194</th>\n",
       "      <td>195</td>\n",
       "      <td>https://www.youtube.com/watch?v=i3GeMMchk6g</td>\n",
       "      <td>শীল মাইরা দিমু, শীল মাইরা দিমু, শীল মাইরা দিমু...</td>\n",
       "      <td>1</td>\n",
       "    </tr>\n",
       "  </tbody>\n",
       "</table>\n",
       "<p>300 rows × 4 columns</p>\n",
       "</div>"
      ],
      "text/plain": [
       "     Serial                                         Youtube_ID  \\\n",
       "72       73        https://www.youtube.com/watch?v=-HTlu0QcmRY   \n",
       "201     202        https://www.youtube.com/watch?v=fox1i7UxpKI   \n",
       "124     125        https://www.youtube.com/watch?v=2OC35RMm5sA   \n",
       "151     152        https://www.youtube.com/watch?v=GW1qzfAoh-s   \n",
       "112     113        https://www.youtube.com/watch?v=GwXjuiZhmgQ   \n",
       "..      ...                                                ...   \n",
       "222     223        https://www.youtube.com/watch?v=8AzzwHSep0c   \n",
       "27       28  https://www.youtube.com/watch?v=fALKprMyy3M&ab...   \n",
       "226     227        https://www.youtube.com/watch?v=lIvoXaaspHA   \n",
       "155     156        https://www.youtube.com/watch?v=Ysl43Pd__uo   \n",
       "194     195        https://www.youtube.com/watch?v=i3GeMMchk6g   \n",
       "\n",
       "                                                Speech  Label  \n",
       "72   রোগীবাহী ট্রলি থেকে হাসপাতালের sit দালাল ছাড়া...      0  \n",
       "201  তোর সঙ্গে আমার একটা কথা ছিল বল তুই কি আমার দুধ...      1  \n",
       "124  শাড়ি তুলে দেখো না কালো ভূত দেখা গিয়েছে কালো ...      1  \n",
       "151  বৃহস্পতিবার সকালে সারা শরীরে পেঁচানো অবস্থায় ...      0  \n",
       "112  আমি চারবার কইরা দিমু আমার কুত্তা দিয়া দিমু ওই ...      1  \n",
       "..                                                 ...    ...  \n",
       "222  একেই গ্রীষ্মকাল তার ওপরে আবার টিনের চাল তার নি...      1  \n",
       "27   বিশেষ হেলিকপ্টারটি তখন বাংলাদেশ মায়ানমার সীমা...      0  \n",
       "226  একটি বিশেষ সতর্কি করুন. ভিডিওটি দেখার আগে নিজে...      1  \n",
       "155  নতুন বাড়ি করতে চাঁদা না দেওয়ায় রাজধানীর দক্...      0  \n",
       "194  শীল মাইরা দিমু, শীল মাইরা দিমু, শীল মাইরা দিমু...      1  \n",
       "\n",
       "[300 rows x 4 columns]"
      ]
     },
     "execution_count": 2,
     "metadata": {},
     "output_type": "execute_result"
    }
   ],
   "source": [
    "df = pd.read_csv(\"vid.csv\")\n",
    "df.sample(frac=1)"
   ]
  },
  {
   "cell_type": "code",
   "execution_count": 3,
   "id": "e7a20ac2",
   "metadata": {},
   "outputs": [
    {
     "data": {
      "text/plain": [
       "0    150\n",
       "1    150\n",
       "Name: Label, dtype: int64"
      ]
     },
     "execution_count": 3,
     "metadata": {},
     "output_type": "execute_result"
    }
   ],
   "source": [
    "df['Label'].value_counts()"
   ]
  },
  {
   "cell_type": "code",
   "execution_count": 4,
   "id": "b35bc5d9",
   "metadata": {},
   "outputs": [
    {
     "data": {
      "text/plain": [
       "'!\"#$%&\\'()*+,-./:;<=>?@[\\\\]^_`{|}~'"
      ]
     },
     "execution_count": 4,
     "metadata": {},
     "output_type": "execute_result"
    }
   ],
   "source": [
    "string.punctuation"
   ]
  },
  {
   "cell_type": "code",
   "execution_count": 5,
   "id": "dfac1a61",
   "metadata": {},
   "outputs": [],
   "source": [
    "def remove_punctuation(txt):\n",
    "    txt_nopunct = \"\".join([c for c in txt if c not in string.punctuation])\n",
    "    return txt_nopunct"
   ]
  },
  {
   "cell_type": "code",
   "execution_count": 6,
   "id": "6893c5c6",
   "metadata": {},
   "outputs": [
    {
     "data": {
      "text/html": [
       "<div>\n",
       "<style scoped>\n",
       "    .dataframe tbody tr th:only-of-type {\n",
       "        vertical-align: middle;\n",
       "    }\n",
       "\n",
       "    .dataframe tbody tr th {\n",
       "        vertical-align: top;\n",
       "    }\n",
       "\n",
       "    .dataframe thead th {\n",
       "        text-align: right;\n",
       "    }\n",
       "</style>\n",
       "<table border=\"1\" class=\"dataframe\">\n",
       "  <thead>\n",
       "    <tr style=\"text-align: right;\">\n",
       "      <th></th>\n",
       "      <th>Serial</th>\n",
       "      <th>Youtube_ID</th>\n",
       "      <th>Speech</th>\n",
       "      <th>Label</th>\n",
       "      <th>msg_clean</th>\n",
       "    </tr>\n",
       "  </thead>\n",
       "  <tbody>\n",
       "    <tr>\n",
       "      <th>0</th>\n",
       "      <td>1</td>\n",
       "      <td>https://www.youtube.com/watch?v=_IzHIQvdohs</td>\n",
       "      <td>এত রাত, BNP রা এখানে যে গালাগালি দেতাসে এক কিন...</td>\n",
       "      <td>1</td>\n",
       "      <td>এত রাত BNP রা এখানে যে গালাগালি দেতাসে এক কিন্...</td>\n",
       "    </tr>\n",
       "    <tr>\n",
       "      <th>1</th>\n",
       "      <td>2</td>\n",
       "      <td>https://www.youtube.com/watch?v=2-ndr2h28jY</td>\n",
       "      <td>জীবনের যারা মুক্তি চাইতেছে আমি তারা বাইরে আসো ...</td>\n",
       "      <td>1</td>\n",
       "      <td>জীবনের যারা মুক্তি চাইতেছে আমি তারা বাইরে আসো ...</td>\n",
       "    </tr>\n",
       "    <tr>\n",
       "      <th>2</th>\n",
       "      <td>3</td>\n",
       "      <td>https://www.youtube.com/watch?v=88loU_FL5MM</td>\n",
       "      <td>আচ্ছা ও কি একদম পাগল হয়ে গেল নাকি? নির্লজ্জ ব...</td>\n",
       "      <td>1</td>\n",
       "      <td>আচ্ছা ও কি একদম পাগল হয়ে গেল নাকি নির্লজ্জ বে...</td>\n",
       "    </tr>\n",
       "    <tr>\n",
       "      <th>3</th>\n",
       "      <td>4</td>\n",
       "      <td>https://www.youtube.com/watch?v=bMYKQydmWCE</td>\n",
       "      <td>আমাকে পরিমরি খান তুই গণভবনে শেখ হাসিনার জামা ক...</td>\n",
       "      <td>1</td>\n",
       "      <td>আমাকে পরিমরি খান তুই গণভবনে শেখ হাসিনার জামা ক...</td>\n",
       "    </tr>\n",
       "    <tr>\n",
       "      <th>4</th>\n",
       "      <td>5</td>\n",
       "      <td>https://www.youtube.com/watch?v=E_EQzQf2TLY</td>\n",
       "      <td>এ সেফাতুল্লার কারে শালা তুই বেয়াই বেয়াই কর, ...</td>\n",
       "      <td>1</td>\n",
       "      <td>এ সেফাতুল্লার কারে শালা তুই বেয়াই বেয়াই কর ত...</td>\n",
       "    </tr>\n",
       "  </tbody>\n",
       "</table>\n",
       "</div>"
      ],
      "text/plain": [
       "   Serial                                   Youtube_ID  \\\n",
       "0       1  https://www.youtube.com/watch?v=_IzHIQvdohs   \n",
       "1       2  https://www.youtube.com/watch?v=2-ndr2h28jY   \n",
       "2       3  https://www.youtube.com/watch?v=88loU_FL5MM   \n",
       "3       4  https://www.youtube.com/watch?v=bMYKQydmWCE   \n",
       "4       5  https://www.youtube.com/watch?v=E_EQzQf2TLY   \n",
       "\n",
       "                                              Speech  Label  \\\n",
       "0  এত রাত, BNP রা এখানে যে গালাগালি দেতাসে এক কিন...      1   \n",
       "1  জীবনের যারা মুক্তি চাইতেছে আমি তারা বাইরে আসো ...      1   \n",
       "2  আচ্ছা ও কি একদম পাগল হয়ে গেল নাকি? নির্লজ্জ ব...      1   \n",
       "3  আমাকে পরিমরি খান তুই গণভবনে শেখ হাসিনার জামা ক...      1   \n",
       "4  এ সেফাতুল্লার কারে শালা তুই বেয়াই বেয়াই কর, ...      1   \n",
       "\n",
       "                                           msg_clean  \n",
       "0  এত রাত BNP রা এখানে যে গালাগালি দেতাসে এক কিন্...  \n",
       "1  জীবনের যারা মুক্তি চাইতেছে আমি তারা বাইরে আসো ...  \n",
       "2  আচ্ছা ও কি একদম পাগল হয়ে গেল নাকি নির্লজ্জ বে...  \n",
       "3  আমাকে পরিমরি খান তুই গণভবনে শেখ হাসিনার জামা ক...  \n",
       "4  এ সেফাতুল্লার কারে শালা তুই বেয়াই বেয়াই কর ত...  "
      ]
     },
     "execution_count": 6,
     "metadata": {},
     "output_type": "execute_result"
    }
   ],
   "source": [
    "df['msg_clean'] = df['Speech'].apply(lambda x:remove_punctuation(x))\n",
    "df.head()"
   ]
  },
  {
   "cell_type": "code",
   "execution_count": 7,
   "id": "9377ae5a",
   "metadata": {},
   "outputs": [],
   "source": [
    "\n",
    "basic_tokenizer = BasicTokenizer()\n",
    "df['tokenized'] = df['msg_clean'].apply(lambda x: basic_tokenizer.tokenize(x))"
   ]
  },
  {
   "cell_type": "code",
   "execution_count": 8,
   "id": "b084bf2c",
   "metadata": {},
   "outputs": [
    {
     "data": {
      "text/html": [
       "<div>\n",
       "<style scoped>\n",
       "    .dataframe tbody tr th:only-of-type {\n",
       "        vertical-align: middle;\n",
       "    }\n",
       "\n",
       "    .dataframe tbody tr th {\n",
       "        vertical-align: top;\n",
       "    }\n",
       "\n",
       "    .dataframe thead th {\n",
       "        text-align: right;\n",
       "    }\n",
       "</style>\n",
       "<table border=\"1\" class=\"dataframe\">\n",
       "  <thead>\n",
       "    <tr style=\"text-align: right;\">\n",
       "      <th></th>\n",
       "      <th>Serial</th>\n",
       "      <th>Youtube_ID</th>\n",
       "      <th>Speech</th>\n",
       "      <th>Label</th>\n",
       "      <th>msg_clean</th>\n",
       "      <th>tokenized</th>\n",
       "    </tr>\n",
       "  </thead>\n",
       "  <tbody>\n",
       "    <tr>\n",
       "      <th>0</th>\n",
       "      <td>1</td>\n",
       "      <td>https://www.youtube.com/watch?v=_IzHIQvdohs</td>\n",
       "      <td>এত রাত, BNP রা এখানে যে গালাগালি দেতাসে এক কিন...</td>\n",
       "      <td>1</td>\n",
       "      <td>এত রাত BNP রা এখানে যে গালাগালি দেতাসে এক কিন্...</td>\n",
       "      <td>[এত, রাত, BNP, রা, এখানে, যে, গালাগালি, দেতাসে...</td>\n",
       "    </tr>\n",
       "    <tr>\n",
       "      <th>1</th>\n",
       "      <td>2</td>\n",
       "      <td>https://www.youtube.com/watch?v=2-ndr2h28jY</td>\n",
       "      <td>জীবনের যারা মুক্তি চাইতেছে আমি তারা বাইরে আসো ...</td>\n",
       "      <td>1</td>\n",
       "      <td>জীবনের যারা মুক্তি চাইতেছে আমি তারা বাইরে আসো ...</td>\n",
       "      <td>[জীবনের, যারা, মুক্তি, চাইতেছে, আমি, তারা, বাই...</td>\n",
       "    </tr>\n",
       "    <tr>\n",
       "      <th>2</th>\n",
       "      <td>3</td>\n",
       "      <td>https://www.youtube.com/watch?v=88loU_FL5MM</td>\n",
       "      <td>আচ্ছা ও কি একদম পাগল হয়ে গেল নাকি? নির্লজ্জ ব...</td>\n",
       "      <td>1</td>\n",
       "      <td>আচ্ছা ও কি একদম পাগল হয়ে গেল নাকি নির্লজ্জ বে...</td>\n",
       "      <td>[আচ্ছা, ও, কি, একদম, পাগল, হয়ে, গেল, নাকি, নি...</td>\n",
       "    </tr>\n",
       "    <tr>\n",
       "      <th>3</th>\n",
       "      <td>4</td>\n",
       "      <td>https://www.youtube.com/watch?v=bMYKQydmWCE</td>\n",
       "      <td>আমাকে পরিমরি খান তুই গণভবনে শেখ হাসিনার জামা ক...</td>\n",
       "      <td>1</td>\n",
       "      <td>আমাকে পরিমরি খান তুই গণভবনে শেখ হাসিনার জামা ক...</td>\n",
       "      <td>[আমাকে, পরিমরি, খান, তুই, গণভবনে, শেখ, হাসিনার...</td>\n",
       "    </tr>\n",
       "    <tr>\n",
       "      <th>4</th>\n",
       "      <td>5</td>\n",
       "      <td>https://www.youtube.com/watch?v=E_EQzQf2TLY</td>\n",
       "      <td>এ সেফাতুল্লার কারে শালা তুই বেয়াই বেয়াই কর, ...</td>\n",
       "      <td>1</td>\n",
       "      <td>এ সেফাতুল্লার কারে শালা তুই বেয়াই বেয়াই কর ত...</td>\n",
       "      <td>[এ, সেফাতুল্লার, কারে, শালা, তুই, বেয়াই, বেয়...</td>\n",
       "    </tr>\n",
       "  </tbody>\n",
       "</table>\n",
       "</div>"
      ],
      "text/plain": [
       "   Serial                                   Youtube_ID  \\\n",
       "0       1  https://www.youtube.com/watch?v=_IzHIQvdohs   \n",
       "1       2  https://www.youtube.com/watch?v=2-ndr2h28jY   \n",
       "2       3  https://www.youtube.com/watch?v=88loU_FL5MM   \n",
       "3       4  https://www.youtube.com/watch?v=bMYKQydmWCE   \n",
       "4       5  https://www.youtube.com/watch?v=E_EQzQf2TLY   \n",
       "\n",
       "                                              Speech  Label  \\\n",
       "0  এত রাত, BNP রা এখানে যে গালাগালি দেতাসে এক কিন...      1   \n",
       "1  জীবনের যারা মুক্তি চাইতেছে আমি তারা বাইরে আসো ...      1   \n",
       "2  আচ্ছা ও কি একদম পাগল হয়ে গেল নাকি? নির্লজ্জ ব...      1   \n",
       "3  আমাকে পরিমরি খান তুই গণভবনে শেখ হাসিনার জামা ক...      1   \n",
       "4  এ সেফাতুল্লার কারে শালা তুই বেয়াই বেয়াই কর, ...      1   \n",
       "\n",
       "                                           msg_clean  \\\n",
       "0  এত রাত BNP রা এখানে যে গালাগালি দেতাসে এক কিন্...   \n",
       "1  জীবনের যারা মুক্তি চাইতেছে আমি তারা বাইরে আসো ...   \n",
       "2  আচ্ছা ও কি একদম পাগল হয়ে গেল নাকি নির্লজ্জ বে...   \n",
       "3  আমাকে পরিমরি খান তুই গণভবনে শেখ হাসিনার জামা ক...   \n",
       "4  এ সেফাতুল্লার কারে শালা তুই বেয়াই বেয়াই কর ত...   \n",
       "\n",
       "                                           tokenized  \n",
       "0  [এত, রাত, BNP, রা, এখানে, যে, গালাগালি, দেতাসে...  \n",
       "1  [জীবনের, যারা, মুক্তি, চাইতেছে, আমি, তারা, বাই...  \n",
       "2  [আচ্ছা, ও, কি, একদম, পাগল, হয়ে, গেল, নাকি, নি...  \n",
       "3  [আমাকে, পরিমরি, খান, তুই, গণভবনে, শেখ, হাসিনার...  \n",
       "4  [এ, সেফাতুল্লার, কারে, শালা, তুই, বেয়াই, বেয়...  "
      ]
     },
     "execution_count": 8,
     "metadata": {},
     "output_type": "execute_result"
    }
   ],
   "source": [
    "\n",
    "df.head()"
   ]
  },
  {
   "cell_type": "code",
   "execution_count": 9,
   "id": "24be6dbb",
   "metadata": {
    "scrolled": true
   },
   "outputs": [
    {
     "data": {
      "text/html": [
       "<div>\n",
       "<style scoped>\n",
       "    .dataframe tbody tr th:only-of-type {\n",
       "        vertical-align: middle;\n",
       "    }\n",
       "\n",
       "    .dataframe tbody tr th {\n",
       "        vertical-align: top;\n",
       "    }\n",
       "\n",
       "    .dataframe thead th {\n",
       "        text-align: right;\n",
       "    }\n",
       "</style>\n",
       "<table border=\"1\" class=\"dataframe\">\n",
       "  <thead>\n",
       "    <tr style=\"text-align: right;\">\n",
       "      <th></th>\n",
       "      <th>Serial</th>\n",
       "      <th>Youtube_ID</th>\n",
       "      <th>Speech</th>\n",
       "      <th>Label</th>\n",
       "      <th>msg_clean</th>\n",
       "      <th>tokenized</th>\n",
       "      <th>Removed Stopped word</th>\n",
       "    </tr>\n",
       "  </thead>\n",
       "  <tbody>\n",
       "    <tr>\n",
       "      <th>0</th>\n",
       "      <td>1</td>\n",
       "      <td>https://www.youtube.com/watch?v=_IzHIQvdohs</td>\n",
       "      <td>এত রাত, BNP রা এখানে যে গালাগালি দেতাসে এক কিন...</td>\n",
       "      <td>1</td>\n",
       "      <td>এত রাত BNP রা এখানে যে গালাগালি দেতাসে এক কিন্...</td>\n",
       "      <td>[এত, রাত, BNP, রা, এখানে, যে, গালাগালি, দেতাসে...</td>\n",
       "      <td>[রাত, BNP, রা, গালাগালি, দেতাসে, এক, Facebook,...</td>\n",
       "    </tr>\n",
       "    <tr>\n",
       "      <th>1</th>\n",
       "      <td>2</td>\n",
       "      <td>https://www.youtube.com/watch?v=2-ndr2h28jY</td>\n",
       "      <td>জীবনের যারা মুক্তি চাইতেছে আমি তারা বাইরে আসো ...</td>\n",
       "      <td>1</td>\n",
       "      <td>জীবনের যারা মুক্তি চাইতেছে আমি তারা বাইরে আসো ...</td>\n",
       "      <td>[জীবনের, যারা, মুক্তি, চাইতেছে, আমি, তারা, বাই...</td>\n",
       "      <td>[জীবনের, মুক্তি, চাইতেছে, বাইরে, আসো, কথাবার্ত...</td>\n",
       "    </tr>\n",
       "    <tr>\n",
       "      <th>2</th>\n",
       "      <td>3</td>\n",
       "      <td>https://www.youtube.com/watch?v=88loU_FL5MM</td>\n",
       "      <td>আচ্ছা ও কি একদম পাগল হয়ে গেল নাকি? নির্লজ্জ ব...</td>\n",
       "      <td>1</td>\n",
       "      <td>আচ্ছা ও কি একদম পাগল হয়ে গেল নাকি নির্লজ্জ বে...</td>\n",
       "      <td>[আচ্ছা, ও, কি, একদম, পাগল, হয়ে, গেল, নাকি, নি...</td>\n",
       "      <td>[আচ্ছা, একদম, পাগল, নির্লজ্জ, বেহায়া, ছোটলোক,...</td>\n",
       "    </tr>\n",
       "    <tr>\n",
       "      <th>3</th>\n",
       "      <td>4</td>\n",
       "      <td>https://www.youtube.com/watch?v=bMYKQydmWCE</td>\n",
       "      <td>আমাকে পরিমরি খান তুই গণভবনে শেখ হাসিনার জামা ক...</td>\n",
       "      <td>1</td>\n",
       "      <td>আমাকে পরিমরি খান তুই গণভবনে শেখ হাসিনার জামা ক...</td>\n",
       "      <td>[আমাকে, পরিমরি, খান, তুই, গণভবনে, শেখ, হাসিনার...</td>\n",
       "      <td>[পরিমরি, খান, তুই, গণভবনে, শেখ, হাসিনার, জামা,...</td>\n",
       "    </tr>\n",
       "    <tr>\n",
       "      <th>4</th>\n",
       "      <td>5</td>\n",
       "      <td>https://www.youtube.com/watch?v=E_EQzQf2TLY</td>\n",
       "      <td>এ সেফাতুল্লার কারে শালা তুই বেয়াই বেয়াই কর, ...</td>\n",
       "      <td>1</td>\n",
       "      <td>এ সেফাতুল্লার কারে শালা তুই বেয়াই বেয়াই কর ত...</td>\n",
       "      <td>[এ, সেফাতুল্লার, কারে, শালা, তুই, বেয়াই, বেয়...</td>\n",
       "      <td>[সেফাতুল্লার, কারে, শালা, তুই, বেয়াই, বেয়াই,...</td>\n",
       "    </tr>\n",
       "  </tbody>\n",
       "</table>\n",
       "</div>"
      ],
      "text/plain": [
       "   Serial                                   Youtube_ID  \\\n",
       "0       1  https://www.youtube.com/watch?v=_IzHIQvdohs   \n",
       "1       2  https://www.youtube.com/watch?v=2-ndr2h28jY   \n",
       "2       3  https://www.youtube.com/watch?v=88loU_FL5MM   \n",
       "3       4  https://www.youtube.com/watch?v=bMYKQydmWCE   \n",
       "4       5  https://www.youtube.com/watch?v=E_EQzQf2TLY   \n",
       "\n",
       "                                              Speech  Label  \\\n",
       "0  এত রাত, BNP রা এখানে যে গালাগালি দেতাসে এক কিন...      1   \n",
       "1  জীবনের যারা মুক্তি চাইতেছে আমি তারা বাইরে আসো ...      1   \n",
       "2  আচ্ছা ও কি একদম পাগল হয়ে গেল নাকি? নির্লজ্জ ব...      1   \n",
       "3  আমাকে পরিমরি খান তুই গণভবনে শেখ হাসিনার জামা ক...      1   \n",
       "4  এ সেফাতুল্লার কারে শালা তুই বেয়াই বেয়াই কর, ...      1   \n",
       "\n",
       "                                           msg_clean  \\\n",
       "0  এত রাত BNP রা এখানে যে গালাগালি দেতাসে এক কিন্...   \n",
       "1  জীবনের যারা মুক্তি চাইতেছে আমি তারা বাইরে আসো ...   \n",
       "2  আচ্ছা ও কি একদম পাগল হয়ে গেল নাকি নির্লজ্জ বে...   \n",
       "3  আমাকে পরিমরি খান তুই গণভবনে শেখ হাসিনার জামা ক...   \n",
       "4  এ সেফাতুল্লার কারে শালা তুই বেয়াই বেয়াই কর ত...   \n",
       "\n",
       "                                           tokenized  \\\n",
       "0  [এত, রাত, BNP, রা, এখানে, যে, গালাগালি, দেতাসে...   \n",
       "1  [জীবনের, যারা, মুক্তি, চাইতেছে, আমি, তারা, বাই...   \n",
       "2  [আচ্ছা, ও, কি, একদম, পাগল, হয়ে, গেল, নাকি, নি...   \n",
       "3  [আমাকে, পরিমরি, খান, তুই, গণভবনে, শেখ, হাসিনার...   \n",
       "4  [এ, সেফাতুল্লার, কারে, শালা, তুই, বেয়াই, বেয়...   \n",
       "\n",
       "                                Removed Stopped word  \n",
       "0  [রাত, BNP, রা, গালাগালি, দেতাসে, এক, Facebook,...  \n",
       "1  [জীবনের, মুক্তি, চাইতেছে, বাইরে, আসো, কথাবার্ত...  \n",
       "2  [আচ্ছা, একদম, পাগল, নির্লজ্জ, বেহায়া, ছোটলোক,...  \n",
       "3  [পরিমরি, খান, তুই, গণভবনে, শেখ, হাসিনার, জামা,...  \n",
       "4  [সেফাতুল্লার, কারে, শালা, তুই, বেয়াই, বেয়াই,...  "
      ]
     },
     "execution_count": 9,
     "metadata": {},
     "output_type": "execute_result"
    }
   ],
   "source": [
    "\n",
    "\n",
    "df['Removed Stopped word'] = df['msg_clean'].apply(lambda x: remove_stopwords(x,stopwords))\n",
    "df.head()"
   ]
  },
  {
   "cell_type": "code",
   "execution_count": 10,
   "id": "399093cf",
   "metadata": {},
   "outputs": [],
   "source": [
    "df['sentence']=df['Removed Stopped word'].apply(' '.join)"
   ]
  },
  {
   "cell_type": "code",
   "execution_count": 61,
   "id": "2a66df49",
   "metadata": {},
   "outputs": [],
   "source": [
    "X=df['sentence']\n",
    "y=df['Label']\n",
    "X_train, X_test, y_train, y_test = train_test_split(X, y, test_size=0.30, random_state=rstate)"
   ]
  },
  {
   "cell_type": "code",
   "execution_count": 62,
   "id": "f50383eb",
   "metadata": {},
   "outputs": [],
   "source": [
    "\n",
    "cv = CountVectorizer(stop_words = stopwords)\n",
    "cv.fit(X)\n",
    "\n",
    "# transform the training and testing data using count vectorizer object\n",
    "X_train_count =  cv.transform(X_train)\n",
    "X_test_count =  cv.transform(X_test)\n",
    "\n",
    "tfidf_tr = TfidfTransformer()\n",
    "X_train_count_tfidf = tfidf_tr.fit_transform(X_train_count)\n",
    "X_test_count_tfidf = tfidf_tr.transform(X_test_count)\n",
    "\n",
    "# ngram level tf-idf \n",
    "tv_ngram = TfidfVectorizer(ngram_range=(1,2))\n",
    "tv_ngram.fit(X)\n",
    "X_train_tfidf_ngram =  tv_ngram.transform(X_train)\n",
    "X_test_tfidf_ngram =  tv_ngram.transform(X_test)"
   ]
  },
  {
   "cell_type": "code",
   "execution_count": 63,
   "id": "822a3963",
   "metadata": {},
   "outputs": [
    {
     "data": {
      "text/plain": [
       "(210, 2704)"
      ]
     },
     "execution_count": 63,
     "metadata": {},
     "output_type": "execute_result"
    }
   ],
   "source": [
    "X_train_count.shape"
   ]
  },
  {
   "cell_type": "code",
   "execution_count": 64,
   "id": "8604fbca",
   "metadata": {},
   "outputs": [
    {
     "data": {
      "text/plain": [
       "(90, 2704)"
      ]
     },
     "execution_count": 64,
     "metadata": {},
     "output_type": "execute_result"
    }
   ],
   "source": [
    "X_test_count.shape"
   ]
  },
  {
   "cell_type": "code",
   "execution_count": 65,
   "id": "10879a99",
   "metadata": {},
   "outputs": [],
   "source": [
    "def classifierModel(classifier, Xtrain, Ytrain, Xtest):\n",
    "    classifier.fit(Xtrain, Ytrain)\n",
    "    predictions = classifier.predict(Xtest)\n",
    "    print(\"\\nAccuracy : \", accuracy_score(predictions, y_test))\n",
    "    \n",
    "    target_names = ['class 0', 'class 1']\n",
    "    #print(classification_report(y_test, predictions, target_names=target_names))"
   ]
  },
  {
   "cell_type": "markdown",
   "id": "a38b8eff",
   "metadata": {},
   "source": [
    "# Linear SVC"
   ]
  },
  {
   "cell_type": "code",
   "execution_count": 66,
   "id": "b9a31d48",
   "metadata": {},
   "outputs": [
    {
     "name": "stdout",
     "output_type": "stream",
     "text": [
      "\n",
      "LinearSVM with Count Vectors: \n",
      "\n",
      "Accuracy :  0.9555555555555556\n",
      "\n",
      "LinearSVM with Count Vectors + TF-IDF: \n",
      "\n",
      "Accuracy :  0.9555555555555556\n",
      "\n",
      "LinearSVM with N-Gram Vectors: \n",
      "\n",
      "Accuracy :  0.9666666666666667\n"
     ]
    }
   ],
   "source": [
    "print(\"\\nLinearSVM with Count Vectors: \")\n",
    "classifierModel(SVC(kernel='linear'), X_train_count, y_train, X_test_count)\n",
    "\n",
    "print(\"\\nLinearSVM with Count Vectors + TF-IDF: \")\n",
    "classifierModel(SVC(kernel='linear'), X_train_count_tfidf, y_train, X_test_count_tfidf)\n",
    "\n",
    "print(\"\\nLinearSVM with N-Gram Vectors: \")\n",
    "classifierModel(SVC(kernel='linear'), X_train_tfidf_ngram, y_train, X_test_tfidf_ngram)"
   ]
  },
  {
   "cell_type": "markdown",
   "id": "f33f5c93",
   "metadata": {},
   "source": [
    "# Bayes"
   ]
  },
  {
   "cell_type": "code",
   "execution_count": 67,
   "id": "4ec4b9d3",
   "metadata": {},
   "outputs": [
    {
     "name": "stdout",
     "output_type": "stream",
     "text": [
      "\n",
      "Naive Bayes with Count Vectors: \n",
      "\n",
      "Accuracy :  0.9666666666666667\n",
      "\n",
      "Naive Bayes with Count Vectors + TF-IDF: \n",
      "\n",
      "Accuracy :  0.9555555555555556\n",
      "\n",
      "Naive Bayes with N-Gram Vectors: \n",
      "\n",
      "Accuracy :  0.9222222222222223\n"
     ]
    }
   ],
   "source": [
    "print(\"\\nNaive Bayes with Count Vectors: \")\n",
    "classifierModel(MultinomialNB(), X_train_count, y_train, X_test_count)\n",
    "\n",
    "print(\"\\nNaive Bayes with Count Vectors + TF-IDF: \")\n",
    "classifierModel(MultinomialNB(), X_train_count_tfidf, y_train, X_test_count_tfidf)\n",
    "\n",
    "print(\"\\nNaive Bayes with N-Gram Vectors: \")\n",
    "classifierModel(MultinomialNB(), X_train_tfidf_ngram, y_train, X_test_tfidf_ngram)"
   ]
  },
  {
   "cell_type": "markdown",
   "id": "5763cb8e",
   "metadata": {},
   "source": [
    "# Random Forrest"
   ]
  },
  {
   "cell_type": "code",
   "execution_count": 68,
   "id": "dbae291e",
   "metadata": {},
   "outputs": [
    {
     "name": "stdout",
     "output_type": "stream",
     "text": [
      "\n",
      "Random Forrest Classifier with Count Vectors: \n",
      "\n",
      "Accuracy :  0.9444444444444444\n",
      "\n",
      "Random Forrest Classifier with Count Vectors + TF-IDF: \n",
      "\n",
      "Accuracy :  0.9666666666666667\n",
      "\n",
      "Random Forrest Classifier with N-Gram Vectors: \n",
      "\n",
      "Accuracy :  0.9777777777777777\n"
     ]
    }
   ],
   "source": [
    "print(\"\\nRandom Forrest Classifier with Count Vectors: \")\n",
    "classifierModel(RandomForestClassifier(random_state=rstate,n_estimators=1024), X_train_count, y_train, X_test_count)\n",
    "\n",
    "print(\"\\nRandom Forrest Classifier with Count Vectors + TF-IDF: \")\n",
    "classifierModel(RandomForestClassifier(random_state=rstate,n_estimators=1024), X_train_count_tfidf, y_train, X_test_count_tfidf)\n",
    "\n",
    "print(\"\\nRandom Forrest Classifier with N-Gram Vectors: \")\n",
    "classifierModel(RandomForestClassifier(random_state=rstate,n_estimators=1024), X_train_tfidf_ngram, y_train, X_test_tfidf_ngram)"
   ]
  },
  {
   "cell_type": "markdown",
   "id": "d54dd5c9",
   "metadata": {},
   "source": [
    "# Logistic Regression"
   ]
  },
  {
   "cell_type": "code",
   "execution_count": 69,
   "id": "6c0ad2e9",
   "metadata": {},
   "outputs": [
    {
     "name": "stdout",
     "output_type": "stream",
     "text": [
      "\n",
      "Logistic Regression with Count Vectors: \n",
      "\n",
      "Accuracy :  0.9777777777777777\n",
      "\n",
      "Logistic Regression with Count Vectors + TF-IDF: \n",
      "\n",
      "Accuracy :  0.9777777777777777\n",
      "\n",
      "Logistic Regression with N-Gram Vectors: \n",
      "\n",
      "Accuracy :  0.9444444444444444\n"
     ]
    }
   ],
   "source": [
    "\n",
    "print(\"\\nLogistic Regression with Count Vectors: \")\n",
    "classifierModel(LogisticRegression(), X_train_count, y_train, X_test_count)\n",
    "\n",
    "print(\"\\nLogistic Regression with Count Vectors + TF-IDF: \")\n",
    "classifierModel(LogisticRegression(), X_train_count_tfidf, y_train, X_test_count_tfidf)\n",
    "\n",
    "print(\"\\nLogistic Regression with N-Gram Vectors: \")\n",
    "classifierModel(LogisticRegression(), X_train_tfidf_ngram, y_train, X_test_tfidf_ngram)\n"
   ]
  },
  {
   "cell_type": "markdown",
   "id": "f5e4887f",
   "metadata": {},
   "source": [
    "# STILL NEED TO WORK ON THIS DONT CHANGE HERE"
   ]
  },
  {
   "cell_type": "code",
   "execution_count": 70,
   "id": "974b96de",
   "metadata": {
    "scrolled": true
   },
   "outputs": [
    {
     "name": "stdout",
     "output_type": "stream",
     "text": [
      "\n",
      "Accuracy :  0.9555555555555556\n"
     ]
    },
    {
     "data": {
      "image/png": "[encoded data removed]",
      "text/plain": [
       "<Figure size 432x288 with 1 Axes>"
      ]
     },
     "metadata": {
      "needs_background": "light"
     },
     "output_type": "display_data"
    }
   ],
   "source": [
    "mlnb = MultinomialNB()\n",
    "mlnb.fit(X_train_count_tfidf, y_train)\n",
    "predictions = mlnb.predict(X_test_count_tfidf)\n",
    "print(\"\\nAccuracy : \", accuracy_score(predictions, y_test))\n",
    "\n",
    "probs = mlnb.predict_proba(X_test_count_tfidf)\n",
    "preds = probs[:,1]\n",
    "fpr_nb, tpr_nb, threshold_nb = metrics.roc_curve(y_test, preds)\n",
    "roc_auc_nb = metrics.auc(fpr_nb, tpr_nb)\n",
    "\n",
    "    # method I: plt\n",
    "import matplotlib.pyplot as plt\n",
    "plt.title('ROC Curve for Naive Bayes')\n",
    "plt.plot(fpr_nb, tpr_nb, 'b', label = 'AUC = %0.2f' % roc_auc_nb)\n",
    "plt.legend(loc = 'lower right')\n",
    "plt.plot([0, 1], [0, 1],'r--')\n",
    "plt.xlim([0, 1])\n",
    "plt.ylim([0, 1])\n",
    "plt.ylabel('True Positive Rate')\n",
    "plt.xlabel('False Positive Rate')\n",
    "plt.show()"
   ]
  },
  {
   "cell_type": "code",
   "execution_count": 71,
   "id": "ce0ba61e",
   "metadata": {},
   "outputs": [
    {
     "name": "stdout",
     "output_type": "stream",
     "text": [
      "[[43  0]\n",
      " [ 4 43]]\n"
     ]
    }
   ],
   "source": [
    "from sklearn import metrics\n",
    "print(metrics.confusion_matrix(y_test,predictions))"
   ]
  },
  {
   "cell_type": "code",
   "execution_count": 72,
   "id": "16496c17",
   "metadata": {},
   "outputs": [
    {
     "name": "stdout",
     "output_type": "stream",
     "text": [
      "              precision    recall  f1-score   support\n",
      "\n",
      "           0       0.91      1.00      0.96        43\n",
      "           1       1.00      0.91      0.96        47\n",
      "\n",
      "    accuracy                           0.96        90\n",
      "   macro avg       0.96      0.96      0.96        90\n",
      "weighted avg       0.96      0.96      0.96        90\n",
      "\n"
     ]
    }
   ],
   "source": [
    "print(metrics.classification_report(y_test,predictions))"
   ]
  }
 ],
 "metadata": {
  "kernelspec": {
   "display_name": "Python 3",
   "language": "python",
   "name": "python3"
  },
  "language_info": {
   "codemirror_mode": {
    "name": "ipython",
    "version": 3
   },
   "file_extension": ".py",
   "mimetype": "text/x-python",
   "name": "python",
   "nbconvert_exporter": "python",
   "pygments_lexer": "ipython3",
   "version": "3.8.8"
  }
 },
 "nbformat": 4,
 "nbformat_minor": 5
}
