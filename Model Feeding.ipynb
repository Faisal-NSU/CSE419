{
 "cells": [
  {
   "cell_type": "code",
   "execution_count": 1,
   "id": "3a6fd39b",
   "metadata": {},
   "outputs": [],
   "source": [
    "import string \n",
    "import seaborn as sns\n",
    "from plotly.offline import download_plotlyjs,init_notebook_mode,plot,iplot\n",
    "%matplotlib inline\n",
    "import numpy as np\n",
    "import pandas as pd\n",
    "import matplotlib.pyplot as plt\n",
    "%matplotlib inline\n",
    "import re\n",
    "import nltk\n",
    "from nltk.stem import PorterStemmer\n",
    "from nltk.sentiment.vader import SentimentIntensityAnalyzer\n",
    "from sklearn.metrics import accuracy_score,classification_report,confusion_matrix\n",
    "from sklearn.feature_extraction.text import CountVectorizer\n",
    "from sklearn.feature_extraction.text import TfidfTransformer\n",
    "from sklearn.pipeline import Pipeline\n",
    "from sklearn.model_selection import train_test_split\n",
    "from sklearn.feature_extraction.text import TfidfVectorizer\n",
    "from sklearn.svm import LinearSVC\n",
    "from sklearn import metrics\n",
    "from sklearn.ensemble import RandomForestClassifier\n",
    "from sklearn.naive_bayes import MultinomialNB\n",
    "from sklearn.linear_model import LogisticRegression\n",
    "from sklearn.svm import SVC\n",
    "from sklearn import tree\n",
    "import warnings\n",
    "warnings.filterwarnings(\"ignore\")\n",
    "from os import path\n",
    "from PIL import Image\n",
    "from wordcloud import WordCloud, STOPWORDS, ImageColorGenerator\n",
    "import pandas as pd\n",
    "import io\n",
    "from bnlp import BasicTokenizer\n",
    "from bnlp.corpus import stopwords, punctuations, letters, digits\n",
    "from bnlp.corpus.util import remove_stopwords\n"
   ]
  },
  {
   "cell_type": "code",
   "execution_count": 2,
   "id": "ad29897b",
   "metadata": {},
   "outputs": [],
   "source": [
    "rstate = 10"
   ]
  },
  {
   "cell_type": "code",
   "execution_count": 3,
   "id": "ea92d055",
   "metadata": {},
   "outputs": [
    {
     "data": {
      "text/html": [
       "<div>\n",
       "<style scoped>\n",
       "    .dataframe tbody tr th:only-of-type {\n",
       "        vertical-align: middle;\n",
       "    }\n",
       "\n",
       "    .dataframe tbody tr th {\n",
       "        vertical-align: top;\n",
       "    }\n",
       "\n",
       "    .dataframe thead th {\n",
       "        text-align: right;\n",
       "    }\n",
       "</style>\n",
       "<table border=\"1\" class=\"dataframe\">\n",
       "  <thead>\n",
       "    <tr style=\"text-align: right;\">\n",
       "      <th></th>\n",
       "      <th>Serial</th>\n",
       "      <th>Youtube_ID</th>\n",
       "      <th>Speech</th>\n",
       "      <th>Label</th>\n",
       "    </tr>\n",
       "  </thead>\n",
       "  <tbody>\n",
       "    <tr>\n",
       "      <th>153</th>\n",
       "      <td>154</td>\n",
       "      <td>https://www.youtube.com/watch?v=10KTGiqyuzY</td>\n",
       "      <td>আগে পিছে চার পা বেঁধে দশ বারো জন হরিণ নিয়ে যা...</td>\n",
       "      <td>0</td>\n",
       "    </tr>\n",
       "    <tr>\n",
       "      <th>37</th>\n",
       "      <td>38</td>\n",
       "      <td>https://www.youtube.com/watch?v=YdQTriESrTc</td>\n",
       "      <td>পোলা, এতবার বলি তোকে আমি যে নাসির ভালো হয়ে যা...</td>\n",
       "      <td>1</td>\n",
       "    </tr>\n",
       "    <tr>\n",
       "      <th>89</th>\n",
       "      <td>90</td>\n",
       "      <td>https://www.youtube.com/watch?v=yHizDQ_veKA</td>\n",
       "      <td>বিশ্বের সবচেয়ে বড় শস্য চিত্র হিসেবে এ স্থান ...</td>\n",
       "      <td>0</td>\n",
       "    </tr>\n",
       "    <tr>\n",
       "      <th>58</th>\n",
       "      <td>59</td>\n",
       "      <td>https://www.youtube.com/watch?v=gvrllYjqYy8</td>\n",
       "      <td>বাঁধাকপি তোর ভালো হোক এই গুষ্টির বিস্কুট. আজকে...</td>\n",
       "      <td>1</td>\n",
       "    </tr>\n",
       "    <tr>\n",
       "      <th>116</th>\n",
       "      <td>117</td>\n",
       "      <td>https://www.youtube.com/watch?v=GEy20pXGQ9Q</td>\n",
       "      <td>হারামি, কালকে নাটু, নাটায়, লাটের বাট, হাওয়া ...</td>\n",
       "      <td>1</td>\n",
       "    </tr>\n",
       "    <tr>\n",
       "      <th>...</th>\n",
       "      <td>...</td>\n",
       "      <td>...</td>\n",
       "      <td>...</td>\n",
       "      <td>...</td>\n",
       "    </tr>\n",
       "    <tr>\n",
       "      <th>13</th>\n",
       "      <td>14</td>\n",
       "      <td>https://www.youtube.com/watch?v=SuuexxHOeGE</td>\n",
       "      <td>ওই সেফাতল্লা খানকির পোলানের পোলা পোলা পোলা জার...</td>\n",
       "      <td>1</td>\n",
       "    </tr>\n",
       "    <tr>\n",
       "      <th>271</th>\n",
       "      <td>272</td>\n",
       "      <td>https://www.youtube.com/watch?v=ZTMpezqheu8</td>\n",
       "      <td>ফের কঠোর বিধি নিষেধের আওতায় পুরো দেশ. সদরঘাটে...</td>\n",
       "      <td>0</td>\n",
       "    </tr>\n",
       "    <tr>\n",
       "      <th>277</th>\n",
       "      <td>278</td>\n",
       "      <td>https://www.youtube.com/watch?v=6ixkuV6NlSk</td>\n",
       "      <td>বিশ্ববিদ্যালয় থেকে ভালো ফলাফল নিয়ে বের হওয়া...</td>\n",
       "      <td>0</td>\n",
       "    </tr>\n",
       "    <tr>\n",
       "      <th>124</th>\n",
       "      <td>125</td>\n",
       "      <td>https://www.youtube.com/watch?v=2OC35RMm5sA</td>\n",
       "      <td>শাড়ি তুলে দেখো না কালো ভূত দেখা গিয়েছে কালো ...</td>\n",
       "      <td>1</td>\n",
       "    </tr>\n",
       "    <tr>\n",
       "      <th>241</th>\n",
       "      <td>242</td>\n",
       "      <td>https://www.youtube.com/watch?v=L-9nQJMEx1o</td>\n",
       "      <td>এখন শুনবেন রাত তিরিশ টার সংবাদ. খবর প্রচারিত হ...</td>\n",
       "      <td>0</td>\n",
       "    </tr>\n",
       "  </tbody>\n",
       "</table>\n",
       "<p>300 rows × 4 columns</p>\n",
       "</div>"
      ],
      "text/plain": [
       "     Serial                                   Youtube_ID  \\\n",
       "153     154  https://www.youtube.com/watch?v=10KTGiqyuzY   \n",
       "37       38  https://www.youtube.com/watch?v=YdQTriESrTc   \n",
       "89       90  https://www.youtube.com/watch?v=yHizDQ_veKA   \n",
       "58       59  https://www.youtube.com/watch?v=gvrllYjqYy8   \n",
       "116     117  https://www.youtube.com/watch?v=GEy20pXGQ9Q   \n",
       "..      ...                                          ...   \n",
       "13       14  https://www.youtube.com/watch?v=SuuexxHOeGE   \n",
       "271     272  https://www.youtube.com/watch?v=ZTMpezqheu8   \n",
       "277     278  https://www.youtube.com/watch?v=6ixkuV6NlSk   \n",
       "124     125  https://www.youtube.com/watch?v=2OC35RMm5sA   \n",
       "241     242  https://www.youtube.com/watch?v=L-9nQJMEx1o   \n",
       "\n",
       "                                                Speech  Label  \n",
       "153  আগে পিছে চার পা বেঁধে দশ বারো জন হরিণ নিয়ে যা...      0  \n",
       "37   পোলা, এতবার বলি তোকে আমি যে নাসির ভালো হয়ে যা...      1  \n",
       "89   বিশ্বের সবচেয়ে বড় শস্য চিত্র হিসেবে এ স্থান ...      0  \n",
       "58   বাঁধাকপি তোর ভালো হোক এই গুষ্টির বিস্কুট. আজকে...      1  \n",
       "116  হারামি, কালকে নাটু, নাটায়, লাটের বাট, হাওয়া ...      1  \n",
       "..                                                 ...    ...  \n",
       "13   ওই সেফাতল্লা খানকির পোলানের পোলা পোলা পোলা জার...      1  \n",
       "271  ফের কঠোর বিধি নিষেধের আওতায় পুরো দেশ. সদরঘাটে...      0  \n",
       "277  বিশ্ববিদ্যালয় থেকে ভালো ফলাফল নিয়ে বের হওয়া...      0  \n",
       "124  শাড়ি তুলে দেখো না কালো ভূত দেখা গিয়েছে কালো ...      1  \n",
       "241  এখন শুনবেন রাত তিরিশ টার সংবাদ. খবর প্রচারিত হ...      0  \n",
       "\n",
       "[300 rows x 4 columns]"
      ]
     },
     "execution_count": 3,
     "metadata": {},
     "output_type": "execute_result"
    }
   ],
   "source": [
    "df = pd.read_csv(\"vid.csv\")\n",
    "df.sample(frac=1)"
   ]
  },
  {
   "cell_type": "code",
   "execution_count": 4,
   "id": "e7a20ac2",
   "metadata": {},
   "outputs": [
    {
     "data": {
      "text/plain": [
       "0    150\n",
       "1    150\n",
       "Name: Label, dtype: int64"
      ]
     },
     "execution_count": 4,
     "metadata": {},
     "output_type": "execute_result"
    }
   ],
   "source": [
    "df['Label'].value_counts()"
   ]
  },
  {
   "cell_type": "code",
   "execution_count": 5,
   "id": "b35bc5d9",
   "metadata": {},
   "outputs": [
    {
     "data": {
      "text/plain": [
       "'!\"#$%&\\'()*+,-./:;<=>?@[\\\\]^_`{|}~'"
      ]
     },
     "execution_count": 5,
     "metadata": {},
     "output_type": "execute_result"
    }
   ],
   "source": [
    "string.punctuation"
   ]
  },
  {
   "cell_type": "code",
   "execution_count": 6,
   "id": "dfac1a61",
   "metadata": {},
   "outputs": [],
   "source": [
    "def remove_punctuation(txt):\n",
    "    txt_nopunct = \"\".join([c for c in txt if c not in string.punctuation])\n",
    "    return txt_nopunct"
   ]
  },
  {
   "cell_type": "code",
   "execution_count": 7,
   "id": "6893c5c6",
   "metadata": {},
   "outputs": [
    {
     "data": {
      "text/html": [
       "<div>\n",
       "<style scoped>\n",
       "    .dataframe tbody tr th:only-of-type {\n",
       "        vertical-align: middle;\n",
       "    }\n",
       "\n",
       "    .dataframe tbody tr th {\n",
       "        vertical-align: top;\n",
       "    }\n",
       "\n",
       "    .dataframe thead th {\n",
       "        text-align: right;\n",
       "    }\n",
       "</style>\n",
       "<table border=\"1\" class=\"dataframe\">\n",
       "  <thead>\n",
       "    <tr style=\"text-align: right;\">\n",
       "      <th></th>\n",
       "      <th>Serial</th>\n",
       "      <th>Youtube_ID</th>\n",
       "      <th>Speech</th>\n",
       "      <th>Label</th>\n",
       "      <th>msg_clean</th>\n",
       "    </tr>\n",
       "  </thead>\n",
       "  <tbody>\n",
       "    <tr>\n",
       "      <th>0</th>\n",
       "      <td>1</td>\n",
       "      <td>https://www.youtube.com/watch?v=_IzHIQvdohs</td>\n",
       "      <td>এত রাত, BNP রা এখানে যে গালাগালি দেতাসে এক কিন...</td>\n",
       "      <td>1</td>\n",
       "      <td>এত রাত BNP রা এখানে যে গালাগালি দেতাসে এক কিন্...</td>\n",
       "    </tr>\n",
       "    <tr>\n",
       "      <th>1</th>\n",
       "      <td>2</td>\n",
       "      <td>https://www.youtube.com/watch?v=2-ndr2h28jY</td>\n",
       "      <td>জীবনের যারা মুক্তি চাইতেছে আমি তারা বাইরে আসো ...</td>\n",
       "      <td>1</td>\n",
       "      <td>জীবনের যারা মুক্তি চাইতেছে আমি তারা বাইরে আসো ...</td>\n",
       "    </tr>\n",
       "    <tr>\n",
       "      <th>2</th>\n",
       "      <td>3</td>\n",
       "      <td>https://www.youtube.com/watch?v=88loU_FL5MM</td>\n",
       "      <td>আচ্ছা ও কি একদম পাগল হয়ে গেল নাকি? নির্লজ্জ ব...</td>\n",
       "      <td>1</td>\n",
       "      <td>আচ্ছা ও কি একদম পাগল হয়ে গেল নাকি নির্লজ্জ বে...</td>\n",
       "    </tr>\n",
       "    <tr>\n",
       "      <th>3</th>\n",
       "      <td>4</td>\n",
       "      <td>https://www.youtube.com/watch?v=bMYKQydmWCE</td>\n",
       "      <td>আমাকে পরিমরি খান তুই গণভবনে শেখ হাসিনার জামা ক...</td>\n",
       "      <td>1</td>\n",
       "      <td>আমাকে পরিমরি খান তুই গণভবনে শেখ হাসিনার জামা ক...</td>\n",
       "    </tr>\n",
       "    <tr>\n",
       "      <th>4</th>\n",
       "      <td>5</td>\n",
       "      <td>https://www.youtube.com/watch?v=E_EQzQf2TLY</td>\n",
       "      <td>এ সেফাতুল্লার কারে শালা তুই বেয়াই বেয়াই কর, ...</td>\n",
       "      <td>1</td>\n",
       "      <td>এ সেফাতুল্লার কারে শালা তুই বেয়াই বেয়াই কর ত...</td>\n",
       "    </tr>\n",
       "  </tbody>\n",
       "</table>\n",
       "</div>"
      ],
      "text/plain": [
       "   Serial                                   Youtube_ID  \\\n",
       "0       1  https://www.youtube.com/watch?v=_IzHIQvdohs   \n",
       "1       2  https://www.youtube.com/watch?v=2-ndr2h28jY   \n",
       "2       3  https://www.youtube.com/watch?v=88loU_FL5MM   \n",
       "3       4  https://www.youtube.com/watch?v=bMYKQydmWCE   \n",
       "4       5  https://www.youtube.com/watch?v=E_EQzQf2TLY   \n",
       "\n",
       "                                              Speech  Label  \\\n",
       "0  এত রাত, BNP রা এখানে যে গালাগালি দেতাসে এক কিন...      1   \n",
       "1  জীবনের যারা মুক্তি চাইতেছে আমি তারা বাইরে আসো ...      1   \n",
       "2  আচ্ছা ও কি একদম পাগল হয়ে গেল নাকি? নির্লজ্জ ব...      1   \n",
       "3  আমাকে পরিমরি খান তুই গণভবনে শেখ হাসিনার জামা ক...      1   \n",
       "4  এ সেফাতুল্লার কারে শালা তুই বেয়াই বেয়াই কর, ...      1   \n",
       "\n",
       "                                           msg_clean  \n",
       "0  এত রাত BNP রা এখানে যে গালাগালি দেতাসে এক কিন্...  \n",
       "1  জীবনের যারা মুক্তি চাইতেছে আমি তারা বাইরে আসো ...  \n",
       "2  আচ্ছা ও কি একদম পাগল হয়ে গেল নাকি নির্লজ্জ বে...  \n",
       "3  আমাকে পরিমরি খান তুই গণভবনে শেখ হাসিনার জামা ক...  \n",
       "4  এ সেফাতুল্লার কারে শালা তুই বেয়াই বেয়াই কর ত...  "
      ]
     },
     "execution_count": 7,
     "metadata": {},
     "output_type": "execute_result"
    }
   ],
   "source": [
    "df['msg_clean'] = df['Speech'].apply(lambda x:remove_punctuation(x))\n",
    "df.head()"
   ]
  },
  {
   "cell_type": "code",
   "execution_count": 8,
   "id": "9377ae5a",
   "metadata": {},
   "outputs": [],
   "source": [
    "\n",
    "basic_tokenizer = BasicTokenizer()\n",
    "df['tokenized'] = df['msg_clean'].apply(lambda x: basic_tokenizer.tokenize(x))"
   ]
  },
  {
   "cell_type": "code",
   "execution_count": 9,
   "id": "b084bf2c",
   "metadata": {},
   "outputs": [
    {
     "data": {
      "text/html": [
       "<div>\n",
       "<style scoped>\n",
       "    .dataframe tbody tr th:only-of-type {\n",
       "        vertical-align: middle;\n",
       "    }\n",
       "\n",
       "    .dataframe tbody tr th {\n",
       "        vertical-align: top;\n",
       "    }\n",
       "\n",
       "    .dataframe thead th {\n",
       "        text-align: right;\n",
       "    }\n",
       "</style>\n",
       "<table border=\"1\" class=\"dataframe\">\n",
       "  <thead>\n",
       "    <tr style=\"text-align: right;\">\n",
       "      <th></th>\n",
       "      <th>Serial</th>\n",
       "      <th>Youtube_ID</th>\n",
       "      <th>Speech</th>\n",
       "      <th>Label</th>\n",
       "      <th>msg_clean</th>\n",
       "      <th>tokenized</th>\n",
       "    </tr>\n",
       "  </thead>\n",
       "  <tbody>\n",
       "    <tr>\n",
       "      <th>0</th>\n",
       "      <td>1</td>\n",
       "      <td>https://www.youtube.com/watch?v=_IzHIQvdohs</td>\n",
       "      <td>এত রাত, BNP রা এখানে যে গালাগালি দেতাসে এক কিন...</td>\n",
       "      <td>1</td>\n",
       "      <td>এত রাত BNP রা এখানে যে গালাগালি দেতাসে এক কিন্...</td>\n",
       "      <td>[এত, রাত, BNP, রা, এখানে, যে, গালাগালি, দেতাসে...</td>\n",
       "    </tr>\n",
       "    <tr>\n",
       "      <th>1</th>\n",
       "      <td>2</td>\n",
       "      <td>https://www.youtube.com/watch?v=2-ndr2h28jY</td>\n",
       "      <td>জীবনের যারা মুক্তি চাইতেছে আমি তারা বাইরে আসো ...</td>\n",
       "      <td>1</td>\n",
       "      <td>জীবনের যারা মুক্তি চাইতেছে আমি তারা বাইরে আসো ...</td>\n",
       "      <td>[জীবনের, যারা, মুক্তি, চাইতেছে, আমি, তারা, বাই...</td>\n",
       "    </tr>\n",
       "    <tr>\n",
       "      <th>2</th>\n",
       "      <td>3</td>\n",
       "      <td>https://www.youtube.com/watch?v=88loU_FL5MM</td>\n",
       "      <td>আচ্ছা ও কি একদম পাগল হয়ে গেল নাকি? নির্লজ্জ ব...</td>\n",
       "      <td>1</td>\n",
       "      <td>আচ্ছা ও কি একদম পাগল হয়ে গেল নাকি নির্লজ্জ বে...</td>\n",
       "      <td>[আচ্ছা, ও, কি, একদম, পাগল, হয়ে, গেল, নাকি, নি...</td>\n",
       "    </tr>\n",
       "    <tr>\n",
       "      <th>3</th>\n",
       "      <td>4</td>\n",
       "      <td>https://www.youtube.com/watch?v=bMYKQydmWCE</td>\n",
       "      <td>আমাকে পরিমরি খান তুই গণভবনে শেখ হাসিনার জামা ক...</td>\n",
       "      <td>1</td>\n",
       "      <td>আমাকে পরিমরি খান তুই গণভবনে শেখ হাসিনার জামা ক...</td>\n",
       "      <td>[আমাকে, পরিমরি, খান, তুই, গণভবনে, শেখ, হাসিনার...</td>\n",
       "    </tr>\n",
       "    <tr>\n",
       "      <th>4</th>\n",
       "      <td>5</td>\n",
       "      <td>https://www.youtube.com/watch?v=E_EQzQf2TLY</td>\n",
       "      <td>এ সেফাতুল্লার কারে শালা তুই বেয়াই বেয়াই কর, ...</td>\n",
       "      <td>1</td>\n",
       "      <td>এ সেফাতুল্লার কারে শালা তুই বেয়াই বেয়াই কর ত...</td>\n",
       "      <td>[এ, সেফাতুল্লার, কারে, শালা, তুই, বেয়াই, বেয়...</td>\n",
       "    </tr>\n",
       "  </tbody>\n",
       "</table>\n",
       "</div>"
      ],
      "text/plain": [
       "   Serial                                   Youtube_ID  \\\n",
       "0       1  https://www.youtube.com/watch?v=_IzHIQvdohs   \n",
       "1       2  https://www.youtube.com/watch?v=2-ndr2h28jY   \n",
       "2       3  https://www.youtube.com/watch?v=88loU_FL5MM   \n",
       "3       4  https://www.youtube.com/watch?v=bMYKQydmWCE   \n",
       "4       5  https://www.youtube.com/watch?v=E_EQzQf2TLY   \n",
       "\n",
       "                                              Speech  Label  \\\n",
       "0  এত রাত, BNP রা এখানে যে গালাগালি দেতাসে এক কিন...      1   \n",
       "1  জীবনের যারা মুক্তি চাইতেছে আমি তারা বাইরে আসো ...      1   \n",
       "2  আচ্ছা ও কি একদম পাগল হয়ে গেল নাকি? নির্লজ্জ ব...      1   \n",
       "3  আমাকে পরিমরি খান তুই গণভবনে শেখ হাসিনার জামা ক...      1   \n",
       "4  এ সেফাতুল্লার কারে শালা তুই বেয়াই বেয়াই কর, ...      1   \n",
       "\n",
       "                                           msg_clean  \\\n",
       "0  এত রাত BNP রা এখানে যে গালাগালি দেতাসে এক কিন্...   \n",
       "1  জীবনের যারা মুক্তি চাইতেছে আমি তারা বাইরে আসো ...   \n",
       "2  আচ্ছা ও কি একদম পাগল হয়ে গেল নাকি নির্লজ্জ বে...   \n",
       "3  আমাকে পরিমরি খান তুই গণভবনে শেখ হাসিনার জামা ক...   \n",
       "4  এ সেফাতুল্লার কারে শালা তুই বেয়াই বেয়াই কর ত...   \n",
       "\n",
       "                                           tokenized  \n",
       "0  [এত, রাত, BNP, রা, এখানে, যে, গালাগালি, দেতাসে...  \n",
       "1  [জীবনের, যারা, মুক্তি, চাইতেছে, আমি, তারা, বাই...  \n",
       "2  [আচ্ছা, ও, কি, একদম, পাগল, হয়ে, গেল, নাকি, নি...  \n",
       "3  [আমাকে, পরিমরি, খান, তুই, গণভবনে, শেখ, হাসিনার...  \n",
       "4  [এ, সেফাতুল্লার, কারে, শালা, তুই, বেয়াই, বেয়...  "
      ]
     },
     "execution_count": 9,
     "metadata": {},
     "output_type": "execute_result"
    }
   ],
   "source": [
    "\n",
    "df.head()"
   ]
  },
  {
   "cell_type": "code",
   "execution_count": 10,
   "id": "24be6dbb",
   "metadata": {
    "scrolled": true
   },
   "outputs": [
    {
     "data": {
      "text/html": [
       "<div>\n",
       "<style scoped>\n",
       "    .dataframe tbody tr th:only-of-type {\n",
       "        vertical-align: middle;\n",
       "    }\n",
       "\n",
       "    .dataframe tbody tr th {\n",
       "        vertical-align: top;\n",
       "    }\n",
       "\n",
       "    .dataframe thead th {\n",
       "        text-align: right;\n",
       "    }\n",
       "</style>\n",
       "<table border=\"1\" class=\"dataframe\">\n",
       "  <thead>\n",
       "    <tr style=\"text-align: right;\">\n",
       "      <th></th>\n",
       "      <th>Serial</th>\n",
       "      <th>Youtube_ID</th>\n",
       "      <th>Speech</th>\n",
       "      <th>Label</th>\n",
       "      <th>msg_clean</th>\n",
       "      <th>tokenized</th>\n",
       "      <th>Removed Stopped word</th>\n",
       "    </tr>\n",
       "  </thead>\n",
       "  <tbody>\n",
       "    <tr>\n",
       "      <th>0</th>\n",
       "      <td>1</td>\n",
       "      <td>https://www.youtube.com/watch?v=_IzHIQvdohs</td>\n",
       "      <td>এত রাত, BNP রা এখানে যে গালাগালি দেতাসে এক কিন...</td>\n",
       "      <td>1</td>\n",
       "      <td>এত রাত BNP রা এখানে যে গালাগালি দেতাসে এক কিন্...</td>\n",
       "      <td>[এত, রাত, BNP, রা, এখানে, যে, গালাগালি, দেতাসে...</td>\n",
       "      <td>[রাত, BNP, রা, গালাগালি, দেতাসে, এক, Facebook,...</td>\n",
       "    </tr>\n",
       "    <tr>\n",
       "      <th>1</th>\n",
       "      <td>2</td>\n",
       "      <td>https://www.youtube.com/watch?v=2-ndr2h28jY</td>\n",
       "      <td>জীবনের যারা মুক্তি চাইতেছে আমি তারা বাইরে আসো ...</td>\n",
       "      <td>1</td>\n",
       "      <td>জীবনের যারা মুক্তি চাইতেছে আমি তারা বাইরে আসো ...</td>\n",
       "      <td>[জীবনের, যারা, মুক্তি, চাইতেছে, আমি, তারা, বাই...</td>\n",
       "      <td>[জীবনের, মুক্তি, চাইতেছে, বাইরে, আসো, কথাবার্ত...</td>\n",
       "    </tr>\n",
       "    <tr>\n",
       "      <th>2</th>\n",
       "      <td>3</td>\n",
       "      <td>https://www.youtube.com/watch?v=88loU_FL5MM</td>\n",
       "      <td>আচ্ছা ও কি একদম পাগল হয়ে গেল নাকি? নির্লজ্জ ব...</td>\n",
       "      <td>1</td>\n",
       "      <td>আচ্ছা ও কি একদম পাগল হয়ে গেল নাকি নির্লজ্জ বে...</td>\n",
       "      <td>[আচ্ছা, ও, কি, একদম, পাগল, হয়ে, গেল, নাকি, নি...</td>\n",
       "      <td>[আচ্ছা, একদম, পাগল, নির্লজ্জ, বেহায়া, ছোটলোক,...</td>\n",
       "    </tr>\n",
       "    <tr>\n",
       "      <th>3</th>\n",
       "      <td>4</td>\n",
       "      <td>https://www.youtube.com/watch?v=bMYKQydmWCE</td>\n",
       "      <td>আমাকে পরিমরি খান তুই গণভবনে শেখ হাসিনার জামা ক...</td>\n",
       "      <td>1</td>\n",
       "      <td>আমাকে পরিমরি খান তুই গণভবনে শেখ হাসিনার জামা ক...</td>\n",
       "      <td>[আমাকে, পরিমরি, খান, তুই, গণভবনে, শেখ, হাসিনার...</td>\n",
       "      <td>[পরিমরি, খান, তুই, গণভবনে, শেখ, হাসিনার, জামা,...</td>\n",
       "    </tr>\n",
       "    <tr>\n",
       "      <th>4</th>\n",
       "      <td>5</td>\n",
       "      <td>https://www.youtube.com/watch?v=E_EQzQf2TLY</td>\n",
       "      <td>এ সেফাতুল্লার কারে শালা তুই বেয়াই বেয়াই কর, ...</td>\n",
       "      <td>1</td>\n",
       "      <td>এ সেফাতুল্লার কারে শালা তুই বেয়াই বেয়াই কর ত...</td>\n",
       "      <td>[এ, সেফাতুল্লার, কারে, শালা, তুই, বেয়াই, বেয়...</td>\n",
       "      <td>[সেফাতুল্লার, কারে, শালা, তুই, বেয়াই, বেয়াই,...</td>\n",
       "    </tr>\n",
       "  </tbody>\n",
       "</table>\n",
       "</div>"
      ],
      "text/plain": [
       "   Serial                                   Youtube_ID  \\\n",
       "0       1  https://www.youtube.com/watch?v=_IzHIQvdohs   \n",
       "1       2  https://www.youtube.com/watch?v=2-ndr2h28jY   \n",
       "2       3  https://www.youtube.com/watch?v=88loU_FL5MM   \n",
       "3       4  https://www.youtube.com/watch?v=bMYKQydmWCE   \n",
       "4       5  https://www.youtube.com/watch?v=E_EQzQf2TLY   \n",
       "\n",
       "                                              Speech  Label  \\\n",
       "0  এত রাত, BNP রা এখানে যে গালাগালি দেতাসে এক কিন...      1   \n",
       "1  জীবনের যারা মুক্তি চাইতেছে আমি তারা বাইরে আসো ...      1   \n",
       "2  আচ্ছা ও কি একদম পাগল হয়ে গেল নাকি? নির্লজ্জ ব...      1   \n",
       "3  আমাকে পরিমরি খান তুই গণভবনে শেখ হাসিনার জামা ক...      1   \n",
       "4  এ সেফাতুল্লার কারে শালা তুই বেয়াই বেয়াই কর, ...      1   \n",
       "\n",
       "                                           msg_clean  \\\n",
       "0  এত রাত BNP রা এখানে যে গালাগালি দেতাসে এক কিন্...   \n",
       "1  জীবনের যারা মুক্তি চাইতেছে আমি তারা বাইরে আসো ...   \n",
       "2  আচ্ছা ও কি একদম পাগল হয়ে গেল নাকি নির্লজ্জ বে...   \n",
       "3  আমাকে পরিমরি খান তুই গণভবনে শেখ হাসিনার জামা ক...   \n",
       "4  এ সেফাতুল্লার কারে শালা তুই বেয়াই বেয়াই কর ত...   \n",
       "\n",
       "                                           tokenized  \\\n",
       "0  [এত, রাত, BNP, রা, এখানে, যে, গালাগালি, দেতাসে...   \n",
       "1  [জীবনের, যারা, মুক্তি, চাইতেছে, আমি, তারা, বাই...   \n",
       "2  [আচ্ছা, ও, কি, একদম, পাগল, হয়ে, গেল, নাকি, নি...   \n",
       "3  [আমাকে, পরিমরি, খান, তুই, গণভবনে, শেখ, হাসিনার...   \n",
       "4  [এ, সেফাতুল্লার, কারে, শালা, তুই, বেয়াই, বেয়...   \n",
       "\n",
       "                                Removed Stopped word  \n",
       "0  [রাত, BNP, রা, গালাগালি, দেতাসে, এক, Facebook,...  \n",
       "1  [জীবনের, মুক্তি, চাইতেছে, বাইরে, আসো, কথাবার্ত...  \n",
       "2  [আচ্ছা, একদম, পাগল, নির্লজ্জ, বেহায়া, ছোটলোক,...  \n",
       "3  [পরিমরি, খান, তুই, গণভবনে, শেখ, হাসিনার, জামা,...  \n",
       "4  [সেফাতুল্লার, কারে, শালা, তুই, বেয়াই, বেয়াই,...  "
      ]
     },
     "execution_count": 10,
     "metadata": {},
     "output_type": "execute_result"
    }
   ],
   "source": [
    "\n",
    "\n",
    "df['Removed Stopped word'] = df['msg_clean'].apply(lambda x: remove_stopwords(x,stopwords))\n",
    "df.head()"
   ]
  },
  {
   "cell_type": "code",
   "execution_count": 11,
   "id": "399093cf",
   "metadata": {},
   "outputs": [],
   "source": [
    "df['sentence']=df['Removed Stopped word'].apply(' '.join)"
   ]
  },
  {
   "cell_type": "code",
   "execution_count": 12,
   "id": "2a66df49",
   "metadata": {},
   "outputs": [],
   "source": [
    "X=df['sentence']\n",
    "y=df['Label']\n",
    "X_train, X_test, y_train, y_test = train_test_split(X, y, test_size=0.30, random_state=rstate)"
   ]
  },
  {
   "cell_type": "code",
   "execution_count": 13,
   "id": "f50383eb",
   "metadata": {},
   "outputs": [],
   "source": [
    "cv = CountVectorizer(stop_words = stopwords)\n",
    "cv.fit(X)\n",
    "\n",
    "# transform the training and testing data using count vectorizer object\n",
    "X_train_count =  cv.transform(X_train)\n",
    "X_test_count =  cv.transform(X_test)\n",
    "\n",
    "tfidf_tr = TfidfTransformer()\n",
    "X_train_count_tfidf = tfidf_tr.fit_transform(X_train_count)\n",
    "X_test_count_tfidf = tfidf_tr.transform(X_test_count)\n",
    "\n",
    "# ngram level tf-idf \n",
    "tv_ngram = TfidfVectorizer(ngram_range=(1,2))\n",
    "tv_ngram.fit(X)\n",
    "X_train_tfidf_ngram =  tv_ngram.transform(X_train)\n",
    "X_test_tfidf_ngram =  tv_ngram.transform(X_test)"
   ]
  },
  {
   "cell_type": "code",
   "execution_count": 14,
   "id": "822a3963",
   "metadata": {},
   "outputs": [
    {
     "data": {
      "text/plain": [
       "(210, 2704)"
      ]
     },
     "execution_count": 14,
     "metadata": {},
     "output_type": "execute_result"
    }
   ],
   "source": [
    "X_train_count.shape"
   ]
  },
  {
   "cell_type": "code",
   "execution_count": 15,
   "id": "8604fbca",
   "metadata": {},
   "outputs": [
    {
     "data": {
      "text/plain": [
       "(90, 2704)"
      ]
     },
     "execution_count": 15,
     "metadata": {},
     "output_type": "execute_result"
    }
   ],
   "source": [
    "X_test_count.shape"
   ]
  },
  {
   "cell_type": "code",
   "execution_count": 16,
   "id": "10879a99",
   "metadata": {},
   "outputs": [],
   "source": [
    "def classifierModel(classifier, Xtrain, Ytrain, Xtest,roc):\n",
    "    classifier.fit(Xtrain, Ytrain)\n",
    "    predictions = classifier.predict(Xtest)\n",
    "    print(30*'=')\n",
    "    print(\"Accuracy : \", accuracy_score(predictions, y_test))\n",
    "    print(30*'=')\n",
    "    if roc:\n",
    "        probs = classifier.predict_proba(X_test_count_tfidf)\n",
    "        preds = probs[:,1]\n",
    "        fpr_svm, tpr_svm, threshold_svm = metrics.roc_curve(y_test, preds)\n",
    "        roc_auc_svm = metrics.auc(fpr_svm, tpr_svm)\n",
    "\n",
    "        import matplotlib.pyplot as plt\n",
    "        plt.title(type(classifier).__name__)\n",
    "        plt.plot(fpr_svm, tpr_svm, 'b', label = 'AUC = %0.2f' % roc_auc_svm)\n",
    "        plt.legend(loc = 'lower right')\n",
    "        plt.plot([0, 1], [0, 1],'r--')\n",
    "        plt.xlim([0, 1])\n",
    "        plt.ylim([0, 1])\n",
    "        plt.ylabel('True Positive Rate')\n",
    "        plt.xlabel('False Positive Rate')\n",
    "        plt.show()\n",
    "    \n",
    "    target_names = ['class 0', 'class 1']\n",
    "    print(classification_report(y_test, predictions, target_names=target_names))"
   ]
  },
  {
   "cell_type": "markdown",
   "id": "a38b8eff",
   "metadata": {},
   "source": [
    "# Linear SVC"
   ]
  },
  {
   "cell_type": "code",
   "execution_count": 17,
   "id": "b9a31d48",
   "metadata": {},
   "outputs": [
    {
     "name": "stdout",
     "output_type": "stream",
     "text": [
      "\n",
      "LinearSVM with Count Vectors: \n",
      "==============================\n",
      "Accuracy :  0.9222222222222223\n",
      "==============================\n"
     ]
    },
    {
     "data": {
      "image/png": "[encoded data removed]",
      "text/plain": [
       "<Figure size 432x288 with 1 Axes>"
      ]
     },
     "metadata": {
      "needs_background": "light"
     },
     "output_type": "display_data"
    },
    {
     "name": "stdout",
     "output_type": "stream",
     "text": [
      "              precision    recall  f1-score   support\n",
      "\n",
      "     class 0       0.93      0.91      0.92        43\n",
      "     class 1       0.92      0.94      0.93        47\n",
      "\n",
      "    accuracy                           0.92        90\n",
      "   macro avg       0.92      0.92      0.92        90\n",
      "weighted avg       0.92      0.92      0.92        90\n",
      "\n",
      "\n",
      "LinearSVM with Count Vectors + TF-IDF: \n",
      "==============================\n",
      "Accuracy :  0.9444444444444444\n",
      "==============================\n"
     ]
    },
    {
     "data": {
      "image/png": "[encoded data removed]",
      "text/plain": [
       "<Figure size 432x288 with 1 Axes>"
      ]
     },
     "metadata": {
      "needs_background": "light"
     },
     "output_type": "display_data"
    },
    {
     "name": "stdout",
     "output_type": "stream",
     "text": [
      "              precision    recall  f1-score   support\n",
      "\n",
      "     class 0       0.95      0.93      0.94        43\n",
      "     class 1       0.94      0.96      0.95        47\n",
      "\n",
      "    accuracy                           0.94        90\n",
      "   macro avg       0.94      0.94      0.94        90\n",
      "weighted avg       0.94      0.94      0.94        90\n",
      "\n",
      "\n",
      "LinearSVM with N-Gram Vectors: \n",
      "==============================\n",
      "Accuracy :  0.9777777777777777\n",
      "==============================\n",
      "              precision    recall  f1-score   support\n",
      "\n",
      "     class 0       0.96      1.00      0.98        43\n",
      "     class 1       1.00      0.96      0.98        47\n",
      "\n",
      "    accuracy                           0.98        90\n",
      "   macro avg       0.98      0.98      0.98        90\n",
      "weighted avg       0.98      0.98      0.98        90\n",
      "\n"
     ]
    }
   ],
   "source": [
    "print(\"\\nLinearSVM with Count Vectors: \")\n",
    "classifierModel(SVC(kernel='linear', probability=True), X_train_count, y_train, X_test_count,roc=True)\n",
    "\n",
    "print(\"\\nLinearSVM with Count Vectors + TF-IDF: \")\n",
    "classifierModel(SVC(kernel='linear', probability=True), X_train_count_tfidf, y_train, X_test_count_tfidf,roc=True)\n",
    "\n",
    "print(\"\\nLinearSVM with N-Gram Vectors: \")\n",
    "classifierModel(SVC(kernel='linear', probability=True), X_train_tfidf_ngram, y_train, X_test_tfidf_ngram,roc=False)\n",
    "\n"
   ]
  },
  {
   "cell_type": "markdown",
   "id": "f33f5c93",
   "metadata": {},
   "source": [
    "# Multinomial Naive Bayes"
   ]
  },
  {
   "cell_type": "code",
   "execution_count": 18,
   "id": "4ec4b9d3",
   "metadata": {},
   "outputs": [
    {
     "name": "stdout",
     "output_type": "stream",
     "text": [
      "\n",
      "Naive Bayes with Count Vectors: \n",
      "==============================\n",
      "Accuracy :  0.9333333333333333\n",
      "==============================\n"
     ]
    },
    {
     "data": {
      "image/png": "[encoded data removed]",
      "text/plain": [
       "<Figure size 432x288 with 1 Axes>"
      ]
     },
     "metadata": {
      "needs_background": "light"
     },
     "output_type": "display_data"
    },
    {
     "name": "stdout",
     "output_type": "stream",
     "text": [
      "              precision    recall  f1-score   support\n",
      "\n",
      "     class 0       0.91      0.95      0.93        43\n",
      "     class 1       0.96      0.91      0.93        47\n",
      "\n",
      "    accuracy                           0.93        90\n",
      "   macro avg       0.93      0.93      0.93        90\n",
      "weighted avg       0.93      0.93      0.93        90\n",
      "\n",
      "\n",
      "Naive Bayes with Count Vectors + TF-IDF: \n",
      "==============================\n",
      "Accuracy :  0.9222222222222223\n",
      "==============================\n"
     ]
    },
    {
     "data": {
      "image/png": "[encoded data removed]",
      "text/plain": [
       "<Figure size 432x288 with 1 Axes>"
      ]
     },
     "metadata": {
      "needs_background": "light"
     },
     "output_type": "display_data"
    },
    {
     "name": "stdout",
     "output_type": "stream",
     "text": [
      "              precision    recall  f1-score   support\n",
      "\n",
      "     class 0       0.89      0.95      0.92        43\n",
      "     class 1       0.95      0.89      0.92        47\n",
      "\n",
      "    accuracy                           0.92        90\n",
      "   macro avg       0.92      0.92      0.92        90\n",
      "weighted avg       0.92      0.92      0.92        90\n",
      "\n",
      "\n",
      "Naive Bayes with N-Gram Vectors: \n",
      "==============================\n",
      "Accuracy :  0.9333333333333333\n",
      "==============================\n",
      "              precision    recall  f1-score   support\n",
      "\n",
      "     class 0       0.88      1.00      0.93        43\n",
      "     class 1       1.00      0.87      0.93        47\n",
      "\n",
      "    accuracy                           0.93        90\n",
      "   macro avg       0.94      0.94      0.93        90\n",
      "weighted avg       0.94      0.93      0.93        90\n",
      "\n"
     ]
    }
   ],
   "source": [
    "print(\"\\nNaive Bayes with Count Vectors: \")\n",
    "classifierModel(MultinomialNB(), X_train_count, y_train, X_test_count,roc=True)\n",
    "\n",
    "print(\"\\nNaive Bayes with Count Vectors + TF-IDF: \")\n",
    "classifierModel(MultinomialNB(), X_train_count_tfidf, y_train, X_test_count_tfidf,roc=True)\n",
    "\n",
    "print(\"\\nNaive Bayes with N-Gram Vectors: \")\n",
    "classifierModel(MultinomialNB(), X_train_tfidf_ngram, y_train, X_test_tfidf_ngram,roc=False)"
   ]
  },
  {
   "cell_type": "markdown",
   "id": "5763cb8e",
   "metadata": {},
   "source": [
    "# Random Forrest"
   ]
  },
  {
   "cell_type": "code",
   "execution_count": 19,
   "id": "dbae291e",
   "metadata": {},
   "outputs": [
    {
     "name": "stdout",
     "output_type": "stream",
     "text": [
      "\n",
      "Random Forrest Classifier with Count Vectors: \n",
      "==============================\n",
      "Accuracy :  0.9444444444444444\n",
      "==============================\n"
     ]
    },
    {
     "data": {
      "image/png": "[encoded data removed]",
      "text/plain": [
       "<Figure size 432x288 with 1 Axes>"
      ]
     },
     "metadata": {
      "needs_background": "light"
     },
     "output_type": "display_data"
    },
    {
     "name": "stdout",
     "output_type": "stream",
     "text": [
      "              precision    recall  f1-score   support\n",
      "\n",
      "     class 0       0.93      0.95      0.94        43\n",
      "     class 1       0.96      0.94      0.95        47\n",
      "\n",
      "    accuracy                           0.94        90\n",
      "   macro avg       0.94      0.94      0.94        90\n",
      "weighted avg       0.94      0.94      0.94        90\n",
      "\n",
      "\n",
      "Random Forrest Classifier with Count Vectors + TF-IDF: \n",
      "==============================\n",
      "Accuracy :  0.9555555555555556\n",
      "==============================\n"
     ]
    },
    {
     "data": {
      "image/png": "[encoded data removed]",
      "text/plain": [
       "<Figure size 432x288 with 1 Axes>"
      ]
     },
     "metadata": {
      "needs_background": "light"
     },
     "output_type": "display_data"
    },
    {
     "name": "stdout",
     "output_type": "stream",
     "text": [
      "              precision    recall  f1-score   support\n",
      "\n",
      "     class 0       0.95      0.95      0.95        43\n",
      "     class 1       0.96      0.96      0.96        47\n",
      "\n",
      "    accuracy                           0.96        90\n",
      "   macro avg       0.96      0.96      0.96        90\n",
      "weighted avg       0.96      0.96      0.96        90\n",
      "\n",
      "\n",
      "Random Forrest Classifier with N-Gram Vectors: \n",
      "==============================\n",
      "Accuracy :  0.9666666666666667\n",
      "==============================\n",
      "              precision    recall  f1-score   support\n",
      "\n",
      "     class 0       0.98      0.95      0.96        43\n",
      "     class 1       0.96      0.98      0.97        47\n",
      "\n",
      "    accuracy                           0.97        90\n",
      "   macro avg       0.97      0.97      0.97        90\n",
      "weighted avg       0.97      0.97      0.97        90\n",
      "\n"
     ]
    }
   ],
   "source": [
    "print(\"\\nRandom Forrest Classifier with Count Vectors: \")\n",
    "classifierModel(RandomForestClassifier(random_state=rstate,n_estimators=512), X_train_count, y_train, X_test_count,roc=True)\n",
    "\n",
    "print(\"\\nRandom Forrest Classifier with Count Vectors + TF-IDF: \")\n",
    "classifierModel(RandomForestClassifier(random_state=rstate,n_estimators=512), X_train_count_tfidf, y_train, X_test_count_tfidf,roc=True)\n",
    "\n",
    "print(\"\\nRandom Forrest Classifier with N-Gram Vectors: \")\n",
    "classifierModel(RandomForestClassifier(random_state=rstate,n_estimators=512), X_train_tfidf_ngram, y_train, X_test_tfidf_ngram,roc=False)"
   ]
  },
  {
   "cell_type": "markdown",
   "id": "d54dd5c9",
   "metadata": {},
   "source": [
    "# Logistic Regression"
   ]
  },
  {
   "cell_type": "code",
   "execution_count": 20,
   "id": "6c0ad2e9",
   "metadata": {},
   "outputs": [
    {
     "name": "stdout",
     "output_type": "stream",
     "text": [
      "\n",
      "Logistic Regression with Count Vectors: \n",
      "==============================\n",
      "Accuracy :  0.9666666666666667\n",
      "==============================\n"
     ]
    },
    {
     "data": {
      "image/png": "[encoded data removed]",
      "text/plain": [
       "<Figure size 432x288 with 1 Axes>"
      ]
     },
     "metadata": {
      "needs_background": "light"
     },
     "output_type": "display_data"
    },
    {
     "name": "stdout",
     "output_type": "stream",
     "text": [
      "              precision    recall  f1-score   support\n",
      "\n",
      "     class 0       0.98      0.95      0.96        43\n",
      "     class 1       0.96      0.98      0.97        47\n",
      "\n",
      "    accuracy                           0.97        90\n",
      "   macro avg       0.97      0.97      0.97        90\n",
      "weighted avg       0.97      0.97      0.97        90\n",
      "\n",
      "\n",
      "Logistic Regression with Count Vectors + TF-IDF: \n",
      "==============================\n",
      "Accuracy :  0.9555555555555556\n",
      "==============================\n"
     ]
    },
    {
     "data": {
      "image/png": "[encoded data removed]",
      "text/plain": [
       "<Figure size 432x288 with 1 Axes>"
      ]
     },
     "metadata": {
      "needs_background": "light"
     },
     "output_type": "display_data"
    },
    {
     "name": "stdout",
     "output_type": "stream",
     "text": [
      "              precision    recall  f1-score   support\n",
      "\n",
      "     class 0       0.95      0.95      0.95        43\n",
      "     class 1       0.96      0.96      0.96        47\n",
      "\n",
      "    accuracy                           0.96        90\n",
      "   macro avg       0.96      0.96      0.96        90\n",
      "weighted avg       0.96      0.96      0.96        90\n",
      "\n",
      "\n",
      "Logistic Regression with N-Gram Vectors: \n",
      "==============================\n",
      "Accuracy :  0.9666666666666667\n",
      "==============================\n",
      "              precision    recall  f1-score   support\n",
      "\n",
      "     class 0       0.93      1.00      0.97        43\n",
      "     class 1       1.00      0.94      0.97        47\n",
      "\n",
      "    accuracy                           0.97        90\n",
      "   macro avg       0.97      0.97      0.97        90\n",
      "weighted avg       0.97      0.97      0.97        90\n",
      "\n"
     ]
    }
   ],
   "source": [
    "\n",
    "print(\"\\nLogistic Regression with Count Vectors: \")\n",
    "classifierModel(LogisticRegression(), X_train_count, y_train, X_test_count,roc=True)\n",
    "\n",
    "print(\"\\nLogistic Regression with Count Vectors + TF-IDF: \")\n",
    "classifierModel(LogisticRegression(), X_train_count_tfidf, y_train, X_test_count_tfidf,roc=True)\n",
    "\n",
    "print(\"\\nLogistic Regression with N-Gram Vectors: \")\n",
    "classifierModel(LogisticRegression(), X_train_tfidf_ngram, y_train, X_test_tfidf_ngram,roc=False)\n"
   ]
  }
 ],
 "metadata": {
  "kernelspec": {
   "display_name": "Python 3",
   "language": "python",
   "name": "python3"
  },
  "language_info": {
   "codemirror_mode": {
    "name": "ipython",
    "version": 3
   },
   "file_extension": ".py",
   "mimetype": "text/x-python",
   "name": "python",
   "nbconvert_exporter": "python",
   "pygments_lexer": "ipython3",
   "version": "3.8.8"
  }
 },
 "nbformat": 4,
 "nbformat_minor": 5
}
